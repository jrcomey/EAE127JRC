{
 "cells": [
  {
   "cell_type": "markdown",
   "metadata": {},
   "source": [
    "# Project 3: Source Panel Method\n",
    "\n",
    "#### Author: Jack Comey\n",
    "\n",
    "##### Student ID: 915323775\n",
    "##### Due Date: 11:59 PM Monday 09 NOV 2020"
   ]
  },
  {
   "cell_type": "markdown",
   "metadata": {},
   "source": [
    "## 0 | Introduction\n",
    "\n",
    "The source panel method is a method of fluid flow analysis operating under the potential flow model. A 2 dimensional shape (or a 3 dimensional shape of infinite length) is broken into _source sheets_, 2D lines that emit potential flow with unit strength per length $\\lambda$. When the $\\lambda$ values are correct, the dividing streamline will closely align with the surface of the object, allowing a program to analyze fluid flow around the body using exclusively potential flow superposition.\n",
    "\n",
    "###### Code Imports and Basic Function Definition:"
   ]
  },
  {
   "cell_type": "code",
   "execution_count": null,
   "metadata": {},
   "outputs": [],
   "source": []
  },
  {
   "cell_type": "markdown",
   "metadata": {},
   "source": [
    "## 1 | Flow Over a Non-Rotating Cylinder\n",
    "\n",
    "For a non-rotating cylinder of arbitrary radius, discretize the cylinder using the source panel method. Use varying numbers of panels, and compare the effect of the number of panels on the accuracy of the solution by comparing the pressure distribution across the cylinder to an analytically derived solution.\n",
    "\n",
    "### 1.1 | "
   ]
  }
 ],
 "metadata": {
  "kernelspec": {
   "display_name": "Python 3",
   "language": "python",
   "name": "python3"
  },
  "language_info": {
   "codemirror_mode": {
    "name": "ipython",
    "version": 3
   },
   "file_extension": ".py",
   "mimetype": "text/x-python",
   "name": "python",
   "nbconvert_exporter": "python",
   "pygments_lexer": "ipython3",
   "version": "3.7.9"
  }
 },
 "nbformat": 4,
 "nbformat_minor": 4
}
