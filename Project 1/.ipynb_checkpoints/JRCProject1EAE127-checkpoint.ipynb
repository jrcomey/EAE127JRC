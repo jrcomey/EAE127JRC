{
 "cells": [
  {
   "cell_type": "markdown",
   "metadata": {},
   "source": [
    "# Project 1: Introduction to Airfoils and XFOIL\n",
    "\n",
    "#### Author: Jack Comey\n",
    "\n",
    "##### Student ID: 915323775\n",
    "##### Due Date: 2:00 PM Monday 26 OCT 2020\n",
    "\n",
    "###### Code Imports and Basic Function Definition:"
   ]
  },
  {
   "cell_type": "markdown",
   "metadata": {},
   "source": [
    "## 1 | Airfoil Geometry Characteristics\n",
    "\n",
    "This problem is a plotting excersize, and consists of plotting two NACA airfoils given \n",
    "\n",
    "### 1.1 | "
   ]
  },
  {
   "cell_type": "markdown",
   "metadata": {},
   "source": [
    "### 1.2 | "
   ]
  },
  {
   "cell_type": "markdown",
   "metadata": {},
   "source": [
    "## 2 | "
   ]
  },
  {
   "cell_type": "markdown",
   "metadata": {},
   "source": [
    "## 3 | "
   ]
  }
 ],
 "metadata": {
  "kernelspec": {
   "display_name": "Python 3",
   "language": "python",
   "name": "python3"
  },
  "language_info": {
   "codemirror_mode": {
    "name": "ipython",
    "version": 3
   },
   "file_extension": ".py",
   "mimetype": "text/x-python",
   "name": "python",
   "nbconvert_exporter": "python",
   "pygments_lexer": "ipython3",
   "version": "3.7.9"
  }
 },
 "nbformat": 4,
 "nbformat_minor": 4
}
